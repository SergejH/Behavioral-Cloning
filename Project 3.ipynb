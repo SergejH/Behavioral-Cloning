{
 "cells": [
  {
   "cell_type": "code",
   "execution_count": 1,
   "metadata": {
    "scrolled": false
   },
   "outputs": [
    {
     "name": "stdout",
     "output_type": "stream",
     "text": [
      "Number of lines: 8208\n",
      "Number of training samples: 6566\n",
      "Number of validation samples: 1642\n"
     ]
    },
    {
     "name": "stderr",
     "output_type": "stream",
     "text": [
      "Using TensorFlow backend.\n"
     ]
    },
    {
     "name": "stdout",
     "output_type": "stream",
     "text": [
      "Epoch 1/1\n",
      "39396/39396 [==============================] - 653s - loss: 0.0323 - val_loss: 0.0301\n",
      "dict_keys(['loss', 'val_loss'])\n"
     ]
    },
    {
     "data": {
      "image/png": "[encoded data removed]",
      "text/plain": [
       "<matplotlib.figure.Figure at 0x1267c49e8>"
      ]
     },
     "metadata": {},
     "output_type": "display_data"
    }
   ],
   "source": [
    "import os\n",
    "import csv\n",
    "import cv2\n",
    "import numpy as np\n",
    "import random\n",
    "import sklearn\n",
    "import matplotlib.pyplot as plt\n",
    "\n",
    "lines = []\n",
    "with open ('data/driving_log.csv') as csvfile:\n",
    "    reader = csv.reader(csvfile)\n",
    "    for line in reader:\n",
    "        lines.append(line)\n",
    "\n",
    "print(\"Number of lines: \" + str(len(lines)))     \n",
    "        \n",
    "from sklearn.model_selection import train_test_split\n",
    "train_samples,validation_samples = train_test_split(lines,test_size=0.2)\n",
    "\n",
    "print(\"Number of training samples: \" + str(len(train_samples)))\n",
    "print(\"Number of validation samples: \" + str(len(validation_samples)))\n",
    "\n",
    "batch_size = 32\n",
    "\n",
    "def generator(samples,batch_size=32):\n",
    "    random.shuffle(samples)\n",
    "    num_samples = len(samples)\n",
    "    while 1:\n",
    "        for offset in range(0,num_samples,batch_size):\n",
    "            batch_samples = samples[offset:offset+batch_size]\n",
    "\n",
    "            images = []\n",
    "            measurements = []\n",
    "            for batch_sample in batch_samples:\n",
    "                for i in range(3):\n",
    "                    if i==0:\n",
    "                        correction = 0\n",
    "                    elif i==1:\n",
    "                        correction = 0.2\n",
    "                    elif i==2:\n",
    "                        correction = -0.2\n",
    "                    source_path = line[i]\n",
    "                    filename = source_path.split('/')[-1]\n",
    "                    current_path = 'data/IMG/' + filename\n",
    "                    image = cv2.imread(current_path)\n",
    "                    brightness = image.mean() + np.random.uniform()\n",
    "                    image[:, :, 2] = image[:, :, 2] * brightness\n",
    "                    images.append(image)\n",
    "                    \n",
    "                    measurement = float(line[3])+correction\n",
    "                    \n",
    "                    prob = np.random.random()   # generates a random number between 0 and 1\n",
    "                    if prob < 0.7 and measurement < 0.01:\n",
    "                        # drop 0 angle data with 70% prbability:\n",
    "                        camera = np.random.choice(['left', 'right'])\n",
    "                        if camera == \"left\":\n",
    "                            measurement += 0.25 \n",
    "                        elif camera == \"right\":\n",
    "                            measurement -= 0.25\n",
    "           \n",
    "                    measurements.append(measurement)\n",
    "\n",
    "            augmented_images, augmented_measurements = [], []\n",
    "            for image,measurement in zip(images, measurements):\n",
    "                augmented_images.append(image)\n",
    "                augmented_measurements.append(measurement)\n",
    "                augmented_images.append(cv2.flip(image,1))\n",
    "                augmented_measurements.append(measurement*-1.0)\n",
    "\n",
    "            X_train = np.array(augmented_images)\n",
    "            y_train = np.array(augmented_measurements)\n",
    "            yield sklearn.utils.shuffle(X_train,y_train)\n",
    "\n",
    "from keras.models import Sequential, Model\n",
    "from keras.layers import Flatten, Dense, Lambda, Cropping2D, Dropout\n",
    "from keras.layers.convolutional import Convolution2D\n",
    "from keras.layers.pooling import MaxPooling2D\n",
    "\n",
    "def resize_and_normalize(X_train):\n",
    "    from keras.backend import tf as ktf\n",
    "    resized = ktf.image.resize_images(X_train, (64,64))\n",
    "    resized = resized / 127.5 - 1.0\n",
    "    return resized\n",
    "\n",
    "train_generator = generator(train_samples,batch_size=32)\n",
    "validation_generator = generator(validation_samples,batch_size=32)\n",
    "\n",
    "#NVidia\n",
    "model = Sequential()\n",
    "model.add(Cropping2D(cropping=((70,25),(0,0)), input_shape=(160,320,3)))\n",
    "model.add(Lambda(resize_and_normalize))\n",
    "model.add(Convolution2D(24,5,5,subsample=(2,2),activation=\"elu\"))\n",
    "model.add(Convolution2D(36,5,5,subsample=(2,2),activation=\"elu\"))\n",
    "model.add(Convolution2D(48,5,5,subsample=(2,2),activation=\"elu\"))\n",
    "model.add(Convolution2D(64,3,3,activation=\"elu\"))\n",
    "model.add(Convolution2D(64,3,3,activation=\"elu\"))\n",
    "model.add(Flatten())\n",
    "model.add(Dense(100))\n",
    "model.add(Dense(50))\n",
    "model.add(Dense(10))\n",
    "model.add(Dense(1))\n",
    "\n",
    "model.compile(loss='mse', optimizer='adam')\n",
    "\n",
    "history_object = model.fit_generator(train_generator,samples_per_epoch = (len(train_samples)*3*2),validation_data=validation_generator,\n",
    "                                     nb_val_samples=len(validation_samples),nb_epoch=1)\n",
    "\n",
    "### print the keys contained in the history object\n",
    "print(history_object.history.keys())\n",
    "\n",
    "### plot the training and validation loss for each epoch\n",
    "plt.plot(history_object.history['loss'])\n",
    "plt.plot(history_object.history['val_loss'])\n",
    "plt.title('model mean squared error loss')\n",
    "plt.ylabel('mean squared error loss')\n",
    "plt.xlabel('epoch')\n",
    "plt.legend(['training set', 'validation set'], loc='upper right')\n",
    "plt.show()\n",
    "\n",
    "model.save('model.h5')"
   ]
  },
  {
   "cell_type": "code",
   "execution_count": null,
   "metadata": {
    "collapsed": true
   },
   "outputs": [],
   "source": []
  }
 ],
 "metadata": {
  "kernelspec": {
   "display_name": "Python 3",
   "language": "python",
   "name": "python3"
  },
  "language_info": {
   "codemirror_mode": {
    "name": "ipython",
    "version": 3
   },
   "file_extension": ".py",
   "mimetype": "text/x-python",
   "name": "python",
   "nbconvert_exporter": "python",
   "pygments_lexer": "ipython3",
   "version": "3.5.2"
  },
  "widgets": {
   "state": {},
   "version": "1.1.2"
  }
 },
 "nbformat": 4,
 "nbformat_minor": 2
}
